{
 "cells": [
  {
   "cell_type": "code",
   "execution_count": 1,
   "id": "4f2c0911",
   "metadata": {},
   "outputs": [],
   "source": [
    "import numpy as np\n",
    "import matplotlib.pyplot as plt"
   ]
  },
  {
   "cell_type": "code",
   "execution_count": 2,
   "id": "fd6f8d09",
   "metadata": {},
   "outputs": [],
   "source": [
    "#Generating sample data\n",
    "x= np.linspace(0,10,10) # x is an array of 10 equally spaced values between 0 and 10\n",
    "y= np.sin(x)\n"
   ]
  },
  {
   "cell_type": "code",
   "execution_count": 3,
   "id": "61e0b2fd",
   "metadata": {},
   "outputs": [],
   "source": [
    "#Define the degree\n",
    "degree= 1"
   ]
  },
  {
   "cell_type": "code",
   "execution_count": 6,
   "id": "95fe83cd",
   "metadata": {},
   "outputs": [],
   "source": [
    "#Compute the knot vector\n",
    "num_knots = len(x)+degree+1\n",
    "t= np.linspace(0,1, num_knots - degree, endpoint = True)\n",
    "t= np.concatenate(([0]*degree, t, [1]* degree))\n"
   ]
  },
  {
   "cell_type": "code",
   "execution_count": 7,
   "id": "2220a6c7",
   "metadata": {},
   "outputs": [],
   "source": [
    "#Compute the B-spline basis functions\n",
    "def basis(i,k,t,x):\n",
    "    if k==0:\n",
    "        return 1.0 if t[i]<= x<t[i+1] else 0.0\n",
    "    else:\n",
    "        c1= 0.0 if t[i+k]==t[i] else (x-t[i])/t[i+k] - t[i] * basis(i, k-1, t, x)\n",
    "        c2= 0.0 if t[i+k+1]==t[i+1] else (t[i+k+1]-x)/t[i+k+1] - t[i+1] * basis(i+1, k-1, t, x)\n",
    "        return c1+c2"
   ]
  },
  {
   "cell_type": "code",
   "execution_count": 9,
   "id": "ae558612",
   "metadata": {},
   "outputs": [],
   "source": [
    "#Evaluate the BSpline basis functions\n",
    "x_interpolated = np.linspace(x[0],x[-1],100)\n",
    "y_interpolated = np.zeros_like(x_interpolated)\n",
    "for i, x_val in enumerate(x_interpolated):\n",
    "    for j in range(len(x)):\n",
    "        y_interpolated[i] += y[j]* basis(j,degree,t,x_val)"
   ]
  },
  {
   "cell_type": "code",
   "execution_count": null,
   "id": "376e8e03",
   "metadata": {},
   "outputs": [],
   "source": [
    "#plot the original data and the interpolated curve\n",
    "plt.scatter(x,y, label=\"Original Plot\")\n",
    "plt.plot()"
   ]
  }
 ],
 "metadata": {
  "kernelspec": {
   "display_name": "Python 3 (ipykernel)",
   "language": "python",
   "name": "python3"
  },
  "language_info": {
   "codemirror_mode": {
    "name": "ipython",
    "version": 3
   },
   "file_extension": ".py",
   "mimetype": "text/x-python",
   "name": "python",
   "nbconvert_exporter": "python",
   "pygments_lexer": "ipython3",
   "version": "3.10.9"
  }
 },
 "nbformat": 4,
 "nbformat_minor": 5
}
