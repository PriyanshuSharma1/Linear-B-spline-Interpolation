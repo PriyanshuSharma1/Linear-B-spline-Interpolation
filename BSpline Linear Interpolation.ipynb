{
 "cells": [
  {
   "cell_type": "code",
   "execution_count": 26,
   "id": "95c6faff",
   "metadata": {},
   "outputs": [],
   "source": [
    "import numpy as np\n",
    "import matplotlib.pyplot as plt"
   ]
  },
  {
   "cell_type": "code",
   "execution_count": 27,
   "id": "51a7aea6",
   "metadata": {},
   "outputs": [],
   "source": [
    "#Generating sample data\n",
    "x= np.linspace(0,10,10) # x is an array of 10 equally spaced values between 0 and 10\n",
    "y= np.sin(x)\n",
    "\n"
   ]
  },
  {
   "cell_type": "code",
   "execution_count": 28,
   "id": "6ba75857",
   "metadata": {},
   "outputs": [],
   "source": [
    "#Define the terms\n",
    "control_ponts = x\n",
    "num_control_points = len(x)\n",
    "degree= 1\n",
    "k = 2 #order\n",
    "n= num_control_points -1"
   ]
  },
  {
   "cell_type": "code",
   "execution_count": 29,
   "id": "ac4b2930",
   "metadata": {},
   "outputs": [],
   "source": [
    "#Compute the knot vector\n",
    "def get_bspline_params(n, degree):\n",
    "    num_knots = n + k\n",
    "    knots = np.zeros(num_knots)\n",
    "    for i in range(num_knots):\n",
    "        if i < k:\n",
    "            knots[i] = 0\n",
    "        elif k <= i <= n:\n",
    "            knots[i] = i - k + 1\n",
    "        elif i > n:\n",
    "            knots[i] = n - k + 2\n",
    "\n",
    "    return x, knots\n",
    "\n"
   ]
  },
  {
   "cell_type": "code",
   "execution_count": 30,
   "id": "e84bf79b",
   "metadata": {},
   "outputs": [],
   "source": [
    "#Compute the B-spline basis functions\n",
    "def bspline_basis(t, i, k, knots):\n",
    "    if k == 0:\n",
    "        if knots[i] <= t < knots[i+1]:\n",
    "            return 1\n",
    "        else:\n",
    "            return 0\n",
    "    else:\n",
    "        w1 = 0 if knots[i+k] == knots[i] else (t - knots[i]) / (knots[i+k] - knots[i])\n",
    "        w2 = 0 if knots[i+k+1] == knots[i+1] else (knots[i+k+1] - t) / (knots[i+k+1] - knots[i+1])\n",
    "        return w1 * bspline_basis(t, i, k-1, knots) + w2 * bspline_basis(t, i+1, k-1, knots)\n"
   ]
  },
  {
   "cell_type": "code",
   "execution_count": 31,
   "id": "19a6e6cc",
   "metadata": {},
   "outputs": [
    {
     "ename": "NameError",
     "evalue": "name 'X' is not defined",
     "output_type": "error",
     "traceback": [
      "\u001b[1;31m---------------------------------------------------------------------------\u001b[0m",
      "\u001b[1;31mNameError\u001b[0m                                 Traceback (most recent call last)",
      "Cell \u001b[1;32mIn[31], line 6\u001b[0m\n\u001b[0;32m      4\u001b[0m \u001b[38;5;28;01mfor\u001b[39;00m i, x_val \u001b[38;5;129;01min\u001b[39;00m \u001b[38;5;28menumerate\u001b[39m(x_interpolated):\n\u001b[0;32m      5\u001b[0m     \u001b[38;5;28;01mfor\u001b[39;00m j \u001b[38;5;129;01min\u001b[39;00m \u001b[38;5;28mrange\u001b[39m(\u001b[38;5;28mlen\u001b[39m(x)):\n\u001b[1;32m----> 6\u001b[0m         y_interpolated[i] \u001b[38;5;241m+\u001b[39m\u001b[38;5;241m=\u001b[39m y[j]\u001b[38;5;241m*\u001b[39m bspline_basis(\u001b[43mX\u001b[49m)\n",
      "\u001b[1;31mNameError\u001b[0m: name 'X' is not defined"
     ]
    }
   ],
   "source": [
    "#Evaluate the BSpline basis functions\n",
    "x_interpolated = np.linspace(x[0],x[-1],100)\n",
    "y_interpolated = np.zeros_like(x_interpolated)\n",
    "for i, x_val in enumerate(x_interpolated):\n",
    "    for j in range(len(x)):\n",
    "        y_interpolated[i] += y[j]* bspline_basis(X)"
   ]
  },
  {
   "cell_type": "code",
   "execution_count": 25,
   "id": "7a79a1f4",
   "metadata": {},
   "outputs": [
    {
     "data": {
      "image/png": "[encoded data removed]",
      "text/plain": [
       "<Figure size 640x480 with 1 Axes>"
      ]
     },
     "metadata": {},
     "output_type": "display_data"
    }
   ],
   "source": [
    "#plot the original data and the interpolated curve\n",
    "plt.scatter(x,y, label=\"Original data points\")\n",
    "plt.plot(x_interpolated, y_interpolated, label=\"Interpolated curve\")\n",
    "plt.legend()\n",
    "plt.show()\n"
   ]
  },
  {
   "cell_type": "code",
   "execution_count": null,
   "id": "df73a814",
   "metadata": {},
   "outputs": [],
   "source": []
  }
 ],
 "metadata": {
  "kernelspec": {
   "display_name": "Python 3 (ipykernel)",
   "language": "python",
   "name": "python3"
  },
  "language_info": {
   "codemirror_mode": {
    "name": "ipython",
    "version": 3
   },
   "file_extension": ".py",
   "mimetype": "text/x-python",
   "name": "python",
   "nbconvert_exporter": "python",
   "pygments_lexer": "ipython3",
   "version": "3.10.9"
  }
 },
 "nbformat": 4,
 "nbformat_minor": 5
}
